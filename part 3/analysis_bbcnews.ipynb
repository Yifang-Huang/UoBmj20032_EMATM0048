{
 "cells": [
  {
   "cell_type": "code",
   "execution_count": 1,
   "metadata": {},
   "outputs": [],
   "source": [
    "import pandas as pd\n",
    "import matplotlib.pyplot as plt\n",
    "import re\n",
    "from collections import Counter\n",
    "import nltk.corpus\n",
    "import string\n",
    "import matplotlib\n",
    "import spacy\n",
    "\n",
    "%matplotlib inline\n"
   ]
  },
  {
   "cell_type": "code",
   "execution_count": null,
   "metadata": {},
   "outputs": [],
   "source": []
  },
  {
   "cell_type": "code",
   "execution_count": null,
   "metadata": {},
   "outputs": [],
   "source": []
  },
  {
   "cell_type": "markdown",
   "metadata": {},
   "source": [
    "This is the file that includes steps for us to analysis the content from BBC News."
   ]
  },
  {
   "cell_type": "code",
   "execution_count": null,
   "metadata": {},
   "outputs": [],
   "source": []
  },
  {
   "cell_type": "markdown",
   "metadata": {},
   "source": [
    "    The following analysis is based on the data that was crawled while writing. And I stored relevant data in a csv file and uploaded it with my assignment."
   ]
  },
  {
   "cell_type": "markdown",
   "metadata": {},
   "source": [
    "### Questions:\n",
    "    1. Can we know the distribution of the length of articles' title/content?\n",
    "    2. What is the most of top 20 common words(after cleaning) in the articles' content?\n",
    "    3. Can we recognize and analysis various types of named entities in contents?\n",
    "    4. Can we give any thoughts on the result?"
   ]
  },
  {
   "cell_type": "code",
   "execution_count": null,
   "metadata": {},
   "outputs": [],
   "source": []
  },
  {
   "cell_type": "markdown",
   "metadata": {},
   "source": [
    "## Data Preparation"
   ]
  },
  {
   "cell_type": "code",
   "execution_count": 4,
   "metadata": {},
   "outputs": [],
   "source": [
    "bbc=pd.read_csv('./bbcnews.csv')"
   ]
  },
  {
   "cell_type": "code",
   "execution_count": 96,
   "metadata": {},
   "outputs": [
    {
     "data": {
      "text/html": [
       "<div>\n",
       "<style scoped>\n",
       "    .dataframe tbody tr th:only-of-type {\n",
       "        vertical-align: middle;\n",
       "    }\n",
       "\n",
       "    .dataframe tbody tr th {\n",
       "        vertical-align: top;\n",
       "    }\n",
       "\n",
       "    .dataframe thead th {\n",
       "        text-align: right;\n",
       "    }\n",
       "</style>\n",
       "<table border=\"1\" class=\"dataframe\">\n",
       "  <thead>\n",
       "    <tr style=\"text-align: right;\">\n",
       "      <th></th>\n",
       "      <th>Title</th>\n",
       "      <th>Content</th>\n",
       "      <th>Tag</th>\n",
       "      <th>Time</th>\n",
       "      <th>URL</th>\n",
       "    </tr>\n",
       "  </thead>\n",
       "  <tbody>\n",
       "    <tr>\n",
       "      <th>0</th>\n",
       "      <td>Capitol riots: FBI warnings amid fears of more...</td>\n",
       "      <td>The FBI is warning of the possibility of arme...</td>\n",
       "      <td>BBC News - World</td>\n",
       "      <td>Tue, 12 Jan 2021 00:26:59 GMT</td>\n",
       "      <td>https://www.bbc.co.uk/news/world-us-canada-556...</td>\n",
       "    </tr>\n",
       "    <tr>\n",
       "      <th>1</th>\n",
       "      <td>Trump impeachment move: Democrats start push t...</td>\n",
       "      <td>Democrats have introduced an article of impea...</td>\n",
       "      <td>BBC News - World</td>\n",
       "      <td>Mon, 11 Jan 2021 18:39:34 GMT</td>\n",
       "      <td>https://www.bbc.co.uk/news/world-us-canada-556...</td>\n",
       "    </tr>\n",
       "    <tr>\n",
       "      <th>2</th>\n",
       "      <td>Capitol police officer Eugene Goodman hailed a...</td>\n",
       "      <td>A US Capitol police officer is being called a...</td>\n",
       "      <td>BBC News - World</td>\n",
       "      <td>Tue, 12 Jan 2021 03:06:10 GMT</td>\n",
       "      <td>https://www.bbc.co.uk/news/world-us-canada-556...</td>\n",
       "    </tr>\n",
       "    <tr>\n",
       "      <th>3</th>\n",
       "      <td>Cuba placed back on US terrorism sponsor list</td>\n",
       "      <td>The US has placed Cuba back on a list of stat...</td>\n",
       "      <td>BBC News - World</td>\n",
       "      <td>Mon, 11 Jan 2021 23:47:26 GMT</td>\n",
       "      <td>https://www.bbc.co.uk/news/world-latin-america...</td>\n",
       "    </tr>\n",
       "    <tr>\n",
       "      <th>4</th>\n",
       "      <td>Stammering: 'I thought it made me a failure'</td>\n",
       "      <td>Next week Joe Biden will be inaugurated as th...</td>\n",
       "      <td>BBC News - World</td>\n",
       "      <td>Tue, 12 Jan 2021 00:03:58 GMT</td>\n",
       "      <td>https://www.bbc.co.uk/news/uk-55620280</td>\n",
       "    </tr>\n",
       "    <tr>\n",
       "      <th>...</th>\n",
       "      <td>...</td>\n",
       "      <td>...</td>\n",
       "      <td>...</td>\n",
       "      <td>...</td>\n",
       "      <td>...</td>\n",
       "    </tr>\n",
       "    <tr>\n",
       "      <th>286</th>\n",
       "      <td>The secret artists creating miniature building...</td>\n",
       "      <td>On streets across Europe, a secret organisati...</td>\n",
       "      <td>BBC News - Entertainment &amp; Arts</td>\n",
       "      <td>Sun, 10 Jan 2021 00:04:56 GMT</td>\n",
       "      <td>https://www.bbc.co.uk/news/entertainment-arts-...</td>\n",
       "    </tr>\n",
       "    <tr>\n",
       "      <th>287</th>\n",
       "      <td>Meet Pa Salieu - winner of the BBC's Sound Of ...</td>\n",
       "      <td>Rapper Pa Salieu is winner of BBC Music's Sou...</td>\n",
       "      <td>BBC News - Entertainment &amp; Arts</td>\n",
       "      <td>Thu, 07 Jan 2021 10:08:22 GMT</td>\n",
       "      <td>https://www.bbc.co.uk/news/entertainment-arts-...</td>\n",
       "    </tr>\n",
       "    <tr>\n",
       "      <th>288</th>\n",
       "      <td>Covid: Joe Wicks wants to help kids 'feel opti...</td>\n",
       "      <td>Celebrity personal trainer Joe Wicks will be ...</td>\n",
       "      <td>BBC News - Entertainment &amp; Arts</td>\n",
       "      <td>Tue, 05 Jan 2021 11:12:53 GMT</td>\n",
       "      <td>https://www.bbc.co.uk/news/entertainment-arts-...</td>\n",
       "    </tr>\n",
       "    <tr>\n",
       "      <th>289</th>\n",
       "      <td>6,561 metal flowers: One man's Covid tribute</td>\n",
       "      <td>Artist Geert van der Vossen has created a flo...</td>\n",
       "      <td>BBC News - Entertainment &amp; Arts</td>\n",
       "      <td>Tue, 05 Jan 2021 00:03:47 GMT</td>\n",
       "      <td>https://www.bbc.co.uk/news/world-55415765</td>\n",
       "    </tr>\n",
       "    <tr>\n",
       "      <th>290</th>\n",
       "      <td>Racism in ballet: Black dancer's 'humiliation'...</td>\n",
       "      <td>ChloÃ© Lopes Gomes says she has faced racial ...</td>\n",
       "      <td>BBC News - Entertainment &amp; Arts</td>\n",
       "      <td>Sun, 03 Jan 2021 00:02:32 GMT</td>\n",
       "      <td>https://www.bbc.co.uk/news/entertainment-arts-...</td>\n",
       "    </tr>\n",
       "  </tbody>\n",
       "</table>\n",
       "<p>291 rows × 5 columns</p>\n",
       "</div>"
      ],
      "text/plain": [
       "                                                 Title  \\\n",
       "0    Capitol riots: FBI warnings amid fears of more...   \n",
       "1    Trump impeachment move: Democrats start push t...   \n",
       "2    Capitol police officer Eugene Goodman hailed a...   \n",
       "3        Cuba placed back on US terrorism sponsor list   \n",
       "4         Stammering: 'I thought it made me a failure'   \n",
       "..                                                 ...   \n",
       "286  The secret artists creating miniature building...   \n",
       "287  Meet Pa Salieu - winner of the BBC's Sound Of ...   \n",
       "288  Covid: Joe Wicks wants to help kids 'feel opti...   \n",
       "289       6,561 metal flowers: One man's Covid tribute   \n",
       "290  Racism in ballet: Black dancer's 'humiliation'...   \n",
       "\n",
       "                                               Content  \\\n",
       "0     The FBI is warning of the possibility of arme...   \n",
       "1     Democrats have introduced an article of impea...   \n",
       "2     A US Capitol police officer is being called a...   \n",
       "3     The US has placed Cuba back on a list of stat...   \n",
       "4     Next week Joe Biden will be inaugurated as th...   \n",
       "..                                                 ...   \n",
       "286   On streets across Europe, a secret organisati...   \n",
       "287   Rapper Pa Salieu is winner of BBC Music's Sou...   \n",
       "288   Celebrity personal trainer Joe Wicks will be ...   \n",
       "289   Artist Geert van der Vossen has created a flo...   \n",
       "290   ChloÃ© Lopes Gomes says she has faced racial ...   \n",
       "\n",
       "                                 Tag                           Time  \\\n",
       "0                   BBC News - World  Tue, 12 Jan 2021 00:26:59 GMT   \n",
       "1                   BBC News - World  Mon, 11 Jan 2021 18:39:34 GMT   \n",
       "2                   BBC News - World  Tue, 12 Jan 2021 03:06:10 GMT   \n",
       "3                   BBC News - World  Mon, 11 Jan 2021 23:47:26 GMT   \n",
       "4                   BBC News - World  Tue, 12 Jan 2021 00:03:58 GMT   \n",
       "..                               ...                            ...   \n",
       "286  BBC News - Entertainment & Arts  Sun, 10 Jan 2021 00:04:56 GMT   \n",
       "287  BBC News - Entertainment & Arts  Thu, 07 Jan 2021 10:08:22 GMT   \n",
       "288  BBC News - Entertainment & Arts  Tue, 05 Jan 2021 11:12:53 GMT   \n",
       "289  BBC News - Entertainment & Arts  Tue, 05 Jan 2021 00:03:47 GMT   \n",
       "290  BBC News - Entertainment & Arts  Sun, 03 Jan 2021 00:02:32 GMT   \n",
       "\n",
       "                                                   URL  \n",
       "0    https://www.bbc.co.uk/news/world-us-canada-556...  \n",
       "1    https://www.bbc.co.uk/news/world-us-canada-556...  \n",
       "2    https://www.bbc.co.uk/news/world-us-canada-556...  \n",
       "3    https://www.bbc.co.uk/news/world-latin-america...  \n",
       "4               https://www.bbc.co.uk/news/uk-55620280  \n",
       "..                                                 ...  \n",
       "286  https://www.bbc.co.uk/news/entertainment-arts-...  \n",
       "287  https://www.bbc.co.uk/news/entertainment-arts-...  \n",
       "288  https://www.bbc.co.uk/news/entertainment-arts-...  \n",
       "289          https://www.bbc.co.uk/news/world-55415765  \n",
       "290  https://www.bbc.co.uk/news/entertainment-arts-...  \n",
       "\n",
       "[291 rows x 5 columns]"
      ]
     },
     "execution_count": 96,
     "metadata": {},
     "output_type": "execute_result"
    }
   ],
   "source": [
    "bbc"
   ]
  },
  {
   "cell_type": "markdown",
   "metadata": {},
   "source": [
    "So we have a dataframe with 291 rows and 5 columns."
   ]
  },
  {
   "cell_type": "code",
   "execution_count": null,
   "metadata": {},
   "outputs": [],
   "source": []
  },
  {
   "cell_type": "code",
   "execution_count": null,
   "metadata": {},
   "outputs": [],
   "source": []
  },
  {
   "cell_type": "code",
   "execution_count": null,
   "metadata": {},
   "outputs": [],
   "source": []
  },
  {
   "cell_type": "markdown",
   "metadata": {},
   "source": [
    "## Data Cleaning\n",
    "Due to the use of multiple rss sources，some news is repeated. For more a accurate analysis,we should first do data preprocessing to remove duplicate data. The same news has the same headline, so when news with the same headline appears, only the first one will be kept."
   ]
  },
  {
   "cell_type": "code",
   "execution_count": 7,
   "metadata": {},
   "outputs": [],
   "source": [
    "data=bbc.drop_duplicates(subset='Title',keep='first',inplace=False)"
   ]
  },
  {
   "cell_type": "code",
   "execution_count": null,
   "metadata": {},
   "outputs": [],
   "source": []
  },
  {
   "cell_type": "code",
   "execution_count": 8,
   "metadata": {},
   "outputs": [
    {
     "data": {
      "text/html": [
       "<div>\n",
       "<style scoped>\n",
       "    .dataframe tbody tr th:only-of-type {\n",
       "        vertical-align: middle;\n",
       "    }\n",
       "\n",
       "    .dataframe tbody tr th {\n",
       "        vertical-align: top;\n",
       "    }\n",
       "\n",
       "    .dataframe thead th {\n",
       "        text-align: right;\n",
       "    }\n",
       "</style>\n",
       "<table border=\"1\" class=\"dataframe\">\n",
       "  <thead>\n",
       "    <tr style=\"text-align: right;\">\n",
       "      <th></th>\n",
       "      <th>Title</th>\n",
       "      <th>Content</th>\n",
       "      <th>Tag</th>\n",
       "      <th>Time</th>\n",
       "      <th>URL</th>\n",
       "    </tr>\n",
       "  </thead>\n",
       "  <tbody>\n",
       "    <tr>\n",
       "      <th>0</th>\n",
       "      <td>Capitol riots: FBI warnings amid fears of more...</td>\n",
       "      <td>The FBI is warning of the possibility of arme...</td>\n",
       "      <td>BBC News - World</td>\n",
       "      <td>Tue, 12 Jan 2021 00:26:59 GMT</td>\n",
       "      <td>https://www.bbc.co.uk/news/world-us-canada-556...</td>\n",
       "    </tr>\n",
       "    <tr>\n",
       "      <th>1</th>\n",
       "      <td>Trump impeachment move: Democrats start push t...</td>\n",
       "      <td>Democrats have introduced an article of impea...</td>\n",
       "      <td>BBC News - World</td>\n",
       "      <td>Mon, 11 Jan 2021 18:39:34 GMT</td>\n",
       "      <td>https://www.bbc.co.uk/news/world-us-canada-556...</td>\n",
       "    </tr>\n",
       "    <tr>\n",
       "      <th>2</th>\n",
       "      <td>Capitol police officer Eugene Goodman hailed a...</td>\n",
       "      <td>A US Capitol police officer is being called a...</td>\n",
       "      <td>BBC News - World</td>\n",
       "      <td>Tue, 12 Jan 2021 03:06:10 GMT</td>\n",
       "      <td>https://www.bbc.co.uk/news/world-us-canada-556...</td>\n",
       "    </tr>\n",
       "    <tr>\n",
       "      <th>3</th>\n",
       "      <td>Cuba placed back on US terrorism sponsor list</td>\n",
       "      <td>The US has placed Cuba back on a list of stat...</td>\n",
       "      <td>BBC News - World</td>\n",
       "      <td>Mon, 11 Jan 2021 23:47:26 GMT</td>\n",
       "      <td>https://www.bbc.co.uk/news/world-latin-america...</td>\n",
       "    </tr>\n",
       "    <tr>\n",
       "      <th>4</th>\n",
       "      <td>Stammering: 'I thought it made me a failure'</td>\n",
       "      <td>Next week Joe Biden will be inaugurated as th...</td>\n",
       "      <td>BBC News - World</td>\n",
       "      <td>Tue, 12 Jan 2021 00:03:58 GMT</td>\n",
       "      <td>https://www.bbc.co.uk/news/uk-55620280</td>\n",
       "    </tr>\n",
       "    <tr>\n",
       "      <th>...</th>\n",
       "      <td>...</td>\n",
       "      <td>...</td>\n",
       "      <td>...</td>\n",
       "      <td>...</td>\n",
       "      <td>...</td>\n",
       "    </tr>\n",
       "    <tr>\n",
       "      <th>286</th>\n",
       "      <td>The secret artists creating miniature building...</td>\n",
       "      <td>On streets across Europe, a secret organisati...</td>\n",
       "      <td>BBC News - Entertainment &amp; Arts</td>\n",
       "      <td>Sun, 10 Jan 2021 00:04:56 GMT</td>\n",
       "      <td>https://www.bbc.co.uk/news/entertainment-arts-...</td>\n",
       "    </tr>\n",
       "    <tr>\n",
       "      <th>287</th>\n",
       "      <td>Meet Pa Salieu - winner of the BBC's Sound Of ...</td>\n",
       "      <td>Rapper Pa Salieu is winner of BBC Music's Sou...</td>\n",
       "      <td>BBC News - Entertainment &amp; Arts</td>\n",
       "      <td>Thu, 07 Jan 2021 10:08:22 GMT</td>\n",
       "      <td>https://www.bbc.co.uk/news/entertainment-arts-...</td>\n",
       "    </tr>\n",
       "    <tr>\n",
       "      <th>288</th>\n",
       "      <td>Covid: Joe Wicks wants to help kids 'feel opti...</td>\n",
       "      <td>Celebrity personal trainer Joe Wicks will be ...</td>\n",
       "      <td>BBC News - Entertainment &amp; Arts</td>\n",
       "      <td>Tue, 05 Jan 2021 11:12:53 GMT</td>\n",
       "      <td>https://www.bbc.co.uk/news/entertainment-arts-...</td>\n",
       "    </tr>\n",
       "    <tr>\n",
       "      <th>289</th>\n",
       "      <td>6,561 metal flowers: One man's Covid tribute</td>\n",
       "      <td>Artist Geert van der Vossen has created a flo...</td>\n",
       "      <td>BBC News - Entertainment &amp; Arts</td>\n",
       "      <td>Tue, 05 Jan 2021 00:03:47 GMT</td>\n",
       "      <td>https://www.bbc.co.uk/news/world-55415765</td>\n",
       "    </tr>\n",
       "    <tr>\n",
       "      <th>290</th>\n",
       "      <td>Racism in ballet: Black dancer's 'humiliation'...</td>\n",
       "      <td>ChloÃ© Lopes Gomes says she has faced racial ...</td>\n",
       "      <td>BBC News - Entertainment &amp; Arts</td>\n",
       "      <td>Sun, 03 Jan 2021 00:02:32 GMT</td>\n",
       "      <td>https://www.bbc.co.uk/news/entertainment-arts-...</td>\n",
       "    </tr>\n",
       "  </tbody>\n",
       "</table>\n",
       "<p>247 rows × 5 columns</p>\n",
       "</div>"
      ],
      "text/plain": [
       "                                                 Title  \\\n",
       "0    Capitol riots: FBI warnings amid fears of more...   \n",
       "1    Trump impeachment move: Democrats start push t...   \n",
       "2    Capitol police officer Eugene Goodman hailed a...   \n",
       "3        Cuba placed back on US terrorism sponsor list   \n",
       "4         Stammering: 'I thought it made me a failure'   \n",
       "..                                                 ...   \n",
       "286  The secret artists creating miniature building...   \n",
       "287  Meet Pa Salieu - winner of the BBC's Sound Of ...   \n",
       "288  Covid: Joe Wicks wants to help kids 'feel opti...   \n",
       "289       6,561 metal flowers: One man's Covid tribute   \n",
       "290  Racism in ballet: Black dancer's 'humiliation'...   \n",
       "\n",
       "                                               Content  \\\n",
       "0     The FBI is warning of the possibility of arme...   \n",
       "1     Democrats have introduced an article of impea...   \n",
       "2     A US Capitol police officer is being called a...   \n",
       "3     The US has placed Cuba back on a list of stat...   \n",
       "4     Next week Joe Biden will be inaugurated as th...   \n",
       "..                                                 ...   \n",
       "286   On streets across Europe, a secret organisati...   \n",
       "287   Rapper Pa Salieu is winner of BBC Music's Sou...   \n",
       "288   Celebrity personal trainer Joe Wicks will be ...   \n",
       "289   Artist Geert van der Vossen has created a flo...   \n",
       "290   ChloÃ© Lopes Gomes says she has faced racial ...   \n",
       "\n",
       "                                 Tag                           Time  \\\n",
       "0                   BBC News - World  Tue, 12 Jan 2021 00:26:59 GMT   \n",
       "1                   BBC News - World  Mon, 11 Jan 2021 18:39:34 GMT   \n",
       "2                   BBC News - World  Tue, 12 Jan 2021 03:06:10 GMT   \n",
       "3                   BBC News - World  Mon, 11 Jan 2021 23:47:26 GMT   \n",
       "4                   BBC News - World  Tue, 12 Jan 2021 00:03:58 GMT   \n",
       "..                               ...                            ...   \n",
       "286  BBC News - Entertainment & Arts  Sun, 10 Jan 2021 00:04:56 GMT   \n",
       "287  BBC News - Entertainment & Arts  Thu, 07 Jan 2021 10:08:22 GMT   \n",
       "288  BBC News - Entertainment & Arts  Tue, 05 Jan 2021 11:12:53 GMT   \n",
       "289  BBC News - Entertainment & Arts  Tue, 05 Jan 2021 00:03:47 GMT   \n",
       "290  BBC News - Entertainment & Arts  Sun, 03 Jan 2021 00:02:32 GMT   \n",
       "\n",
       "                                                   URL  \n",
       "0    https://www.bbc.co.uk/news/world-us-canada-556...  \n",
       "1    https://www.bbc.co.uk/news/world-us-canada-556...  \n",
       "2    https://www.bbc.co.uk/news/world-us-canada-556...  \n",
       "3    https://www.bbc.co.uk/news/world-latin-america...  \n",
       "4               https://www.bbc.co.uk/news/uk-55620280  \n",
       "..                                                 ...  \n",
       "286  https://www.bbc.co.uk/news/entertainment-arts-...  \n",
       "287  https://www.bbc.co.uk/news/entertainment-arts-...  \n",
       "288  https://www.bbc.co.uk/news/entertainment-arts-...  \n",
       "289          https://www.bbc.co.uk/news/world-55415765  \n",
       "290  https://www.bbc.co.uk/news/entertainment-arts-...  \n",
       "\n",
       "[247 rows x 5 columns]"
      ]
     },
     "execution_count": 8,
     "metadata": {},
     "output_type": "execute_result"
    }
   ],
   "source": [
    "data"
   ]
  },
  {
   "cell_type": "markdown",
   "metadata": {},
   "source": [
    "After data cleaning we have a new dataframe with 247 rows and 5 columns."
   ]
  },
  {
   "cell_type": "code",
   "execution_count": null,
   "metadata": {},
   "outputs": [],
   "source": []
  },
  {
   "cell_type": "code",
   "execution_count": null,
   "metadata": {},
   "outputs": [],
   "source": []
  },
  {
   "cell_type": "code",
   "execution_count": null,
   "metadata": {},
   "outputs": [],
   "source": []
  },
  {
   "cell_type": "markdown",
   "metadata": {},
   "source": [
    "### Answer 1:\n",
    "    \n",
    "    （Q：Can we know the distribution of the length of articles' title/content?）\n",
    "    \n",
    "    In this part, we can get the length of the articles' title/content. We can also explore some statistics of these data like median, sum, mean. etc...\n",
    "    "
   ]
  },
  {
   "cell_type": "code",
   "execution_count": null,
   "metadata": {},
   "outputs": [],
   "source": []
  },
  {
   "cell_type": "markdown",
   "metadata": {},
   "source": [
    "Defined a function to return number of words in content."
   ]
  },
  {
   "cell_type": "code",
   "execution_count": 9,
   "metadata": {},
   "outputs": [],
   "source": [
    "def word_count(content):\n",
    "    return len(content)"
   ]
  },
  {
   "cell_type": "code",
   "execution_count": null,
   "metadata": {},
   "outputs": [],
   "source": []
  },
  {
   "cell_type": "markdown",
   "metadata": {},
   "source": [
    "Creating additional columns：Content_Count(number of words in content) and Title_Count(number of words in title) columns."
   ]
  },
  {
   "cell_type": "code",
   "execution_count": 17,
   "metadata": {},
   "outputs": [
    {
     "name": "stderr",
     "output_type": "stream",
     "text": [
      "<ipython-input-17-119b0431e8b2>:1: SettingWithCopyWarning: \n",
      "A value is trying to be set on a copy of a slice from a DataFrame.\n",
      "Try using .loc[row_indexer,col_indexer] = value instead\n",
      "\n",
      "See the caveats in the documentation: https://pandas.pydata.org/pandas-docs/stable/user_guide/indexing.html#returning-a-view-versus-a-copy\n",
      "  data['Content_Count']=data['Content'].apply(word_count)\n"
     ]
    }
   ],
   "source": [
    "data['Content_Count']=data['Content'].apply(word_count)"
   ]
  },
  {
   "cell_type": "code",
   "execution_count": null,
   "metadata": {},
   "outputs": [],
   "source": []
  },
  {
   "cell_type": "code",
   "execution_count": 19,
   "metadata": {},
   "outputs": [
    {
     "name": "stderr",
     "output_type": "stream",
     "text": [
      "<ipython-input-19-b0bf57d519e8>:1: SettingWithCopyWarning: \n",
      "A value is trying to be set on a copy of a slice from a DataFrame.\n",
      "Try using .loc[row_indexer,col_indexer] = value instead\n",
      "\n",
      "See the caveats in the documentation: https://pandas.pydata.org/pandas-docs/stable/user_guide/indexing.html#returning-a-view-versus-a-copy\n",
      "  data['Title_Count']=data['Title'].apply(word_count)\n"
     ]
    }
   ],
   "source": [
    "data['Title_Count']=data['Title'].apply(word_count)"
   ]
  },
  {
   "cell_type": "code",
   "execution_count": 20,
   "metadata": {
    "scrolled": true
   },
   "outputs": [
    {
     "data": {
      "text/html": [
       "<div>\n",
       "<style scoped>\n",
       "    .dataframe tbody tr th:only-of-type {\n",
       "        vertical-align: middle;\n",
       "    }\n",
       "\n",
       "    .dataframe tbody tr th {\n",
       "        vertical-align: top;\n",
       "    }\n",
       "\n",
       "    .dataframe thead th {\n",
       "        text-align: right;\n",
       "    }\n",
       "</style>\n",
       "<table border=\"1\" class=\"dataframe\">\n",
       "  <thead>\n",
       "    <tr style=\"text-align: right;\">\n",
       "      <th></th>\n",
       "      <th>Title</th>\n",
       "      <th>Content</th>\n",
       "      <th>Tag</th>\n",
       "      <th>Time</th>\n",
       "      <th>URL</th>\n",
       "      <th>Content_Count</th>\n",
       "      <th>Title_Count</th>\n",
       "    </tr>\n",
       "  </thead>\n",
       "  <tbody>\n",
       "    <tr>\n",
       "      <th>0</th>\n",
       "      <td>Capitol riots: FBI warnings amid fears of more...</td>\n",
       "      <td>The FBI is warning of the possibility of arme...</td>\n",
       "      <td>BBC News - World</td>\n",
       "      <td>Tue, 12 Jan 2021 00:26:59 GMT</td>\n",
       "      <td>https://www.bbc.co.uk/news/world-us-canada-556...</td>\n",
       "      <td>6334</td>\n",
       "      <td>65</td>\n",
       "    </tr>\n",
       "    <tr>\n",
       "      <th>1</th>\n",
       "      <td>Trump impeachment move: Democrats start push t...</td>\n",
       "      <td>Democrats have introduced an article of impea...</td>\n",
       "      <td>BBC News - World</td>\n",
       "      <td>Mon, 11 Jan 2021 18:39:34 GMT</td>\n",
       "      <td>https://www.bbc.co.uk/news/world-us-canada-556...</td>\n",
       "      <td>6593</td>\n",
       "      <td>65</td>\n",
       "    </tr>\n",
       "    <tr>\n",
       "      <th>2</th>\n",
       "      <td>Capitol police officer Eugene Goodman hailed a...</td>\n",
       "      <td>A US Capitol police officer is being called a...</td>\n",
       "      <td>BBC News - World</td>\n",
       "      <td>Tue, 12 Jan 2021 03:06:10 GMT</td>\n",
       "      <td>https://www.bbc.co.uk/news/world-us-canada-556...</td>\n",
       "      <td>5208</td>\n",
       "      <td>56</td>\n",
       "    </tr>\n",
       "    <tr>\n",
       "      <th>3</th>\n",
       "      <td>Cuba placed back on US terrorism sponsor list</td>\n",
       "      <td>The US has placed Cuba back on a list of stat...</td>\n",
       "      <td>BBC News - World</td>\n",
       "      <td>Mon, 11 Jan 2021 23:47:26 GMT</td>\n",
       "      <td>https://www.bbc.co.uk/news/world-latin-america...</td>\n",
       "      <td>2213</td>\n",
       "      <td>45</td>\n",
       "    </tr>\n",
       "    <tr>\n",
       "      <th>4</th>\n",
       "      <td>Stammering: 'I thought it made me a failure'</td>\n",
       "      <td>Next week Joe Biden will be inaugurated as th...</td>\n",
       "      <td>BBC News - World</td>\n",
       "      <td>Tue, 12 Jan 2021 00:03:58 GMT</td>\n",
       "      <td>https://www.bbc.co.uk/news/uk-55620280</td>\n",
       "      <td>354</td>\n",
       "      <td>44</td>\n",
       "    </tr>\n",
       "    <tr>\n",
       "      <th>...</th>\n",
       "      <td>...</td>\n",
       "      <td>...</td>\n",
       "      <td>...</td>\n",
       "      <td>...</td>\n",
       "      <td>...</td>\n",
       "      <td>...</td>\n",
       "      <td>...</td>\n",
       "    </tr>\n",
       "    <tr>\n",
       "      <th>286</th>\n",
       "      <td>The secret artists creating miniature building...</td>\n",
       "      <td>On streets across Europe, a secret organisati...</td>\n",
       "      <td>BBC News - Entertainment &amp; Arts</td>\n",
       "      <td>Sun, 10 Jan 2021 00:04:56 GMT</td>\n",
       "      <td>https://www.bbc.co.uk/news/entertainment-arts-...</td>\n",
       "      <td>484</td>\n",
       "      <td>63</td>\n",
       "    </tr>\n",
       "    <tr>\n",
       "      <th>287</th>\n",
       "      <td>Meet Pa Salieu - winner of the BBC's Sound Of ...</td>\n",
       "      <td>Rapper Pa Salieu is winner of BBC Music's Sou...</td>\n",
       "      <td>BBC News - Entertainment &amp; Arts</td>\n",
       "      <td>Thu, 07 Jan 2021 10:08:22 GMT</td>\n",
       "      <td>https://www.bbc.co.uk/news/entertainment-arts-...</td>\n",
       "      <td>479</td>\n",
       "      <td>50</td>\n",
       "    </tr>\n",
       "    <tr>\n",
       "      <th>288</th>\n",
       "      <td>Covid: Joe Wicks wants to help kids 'feel opti...</td>\n",
       "      <td>Celebrity personal trainer Joe Wicks will be ...</td>\n",
       "      <td>BBC News - Entertainment &amp; Arts</td>\n",
       "      <td>Tue, 05 Jan 2021 11:12:53 GMT</td>\n",
       "      <td>https://www.bbc.co.uk/news/entertainment-arts-...</td>\n",
       "      <td>611</td>\n",
       "      <td>53</td>\n",
       "    </tr>\n",
       "    <tr>\n",
       "      <th>289</th>\n",
       "      <td>6,561 metal flowers: One man's Covid tribute</td>\n",
       "      <td>Artist Geert van der Vossen has created a flo...</td>\n",
       "      <td>BBC News - Entertainment &amp; Arts</td>\n",
       "      <td>Tue, 05 Jan 2021 00:03:47 GMT</td>\n",
       "      <td>https://www.bbc.co.uk/news/world-55415765</td>\n",
       "      <td>120</td>\n",
       "      <td>44</td>\n",
       "    </tr>\n",
       "    <tr>\n",
       "      <th>290</th>\n",
       "      <td>Racism in ballet: Black dancer's 'humiliation'...</td>\n",
       "      <td>ChloÃ© Lopes Gomes says she has faced racial ...</td>\n",
       "      <td>BBC News - Entertainment &amp; Arts</td>\n",
       "      <td>Sun, 03 Jan 2021 00:02:32 GMT</td>\n",
       "      <td>https://www.bbc.co.uk/news/entertainment-arts-...</td>\n",
       "      <td>533</td>\n",
       "      <td>65</td>\n",
       "    </tr>\n",
       "  </tbody>\n",
       "</table>\n",
       "<p>247 rows × 7 columns</p>\n",
       "</div>"
      ],
      "text/plain": [
       "                                                 Title  \\\n",
       "0    Capitol riots: FBI warnings amid fears of more...   \n",
       "1    Trump impeachment move: Democrats start push t...   \n",
       "2    Capitol police officer Eugene Goodman hailed a...   \n",
       "3        Cuba placed back on US terrorism sponsor list   \n",
       "4         Stammering: 'I thought it made me a failure'   \n",
       "..                                                 ...   \n",
       "286  The secret artists creating miniature building...   \n",
       "287  Meet Pa Salieu - winner of the BBC's Sound Of ...   \n",
       "288  Covid: Joe Wicks wants to help kids 'feel opti...   \n",
       "289       6,561 metal flowers: One man's Covid tribute   \n",
       "290  Racism in ballet: Black dancer's 'humiliation'...   \n",
       "\n",
       "                                               Content  \\\n",
       "0     The FBI is warning of the possibility of arme...   \n",
       "1     Democrats have introduced an article of impea...   \n",
       "2     A US Capitol police officer is being called a...   \n",
       "3     The US has placed Cuba back on a list of stat...   \n",
       "4     Next week Joe Biden will be inaugurated as th...   \n",
       "..                                                 ...   \n",
       "286   On streets across Europe, a secret organisati...   \n",
       "287   Rapper Pa Salieu is winner of BBC Music's Sou...   \n",
       "288   Celebrity personal trainer Joe Wicks will be ...   \n",
       "289   Artist Geert van der Vossen has created a flo...   \n",
       "290   ChloÃ© Lopes Gomes says she has faced racial ...   \n",
       "\n",
       "                                 Tag                           Time  \\\n",
       "0                   BBC News - World  Tue, 12 Jan 2021 00:26:59 GMT   \n",
       "1                   BBC News - World  Mon, 11 Jan 2021 18:39:34 GMT   \n",
       "2                   BBC News - World  Tue, 12 Jan 2021 03:06:10 GMT   \n",
       "3                   BBC News - World  Mon, 11 Jan 2021 23:47:26 GMT   \n",
       "4                   BBC News - World  Tue, 12 Jan 2021 00:03:58 GMT   \n",
       "..                               ...                            ...   \n",
       "286  BBC News - Entertainment & Arts  Sun, 10 Jan 2021 00:04:56 GMT   \n",
       "287  BBC News - Entertainment & Arts  Thu, 07 Jan 2021 10:08:22 GMT   \n",
       "288  BBC News - Entertainment & Arts  Tue, 05 Jan 2021 11:12:53 GMT   \n",
       "289  BBC News - Entertainment & Arts  Tue, 05 Jan 2021 00:03:47 GMT   \n",
       "290  BBC News - Entertainment & Arts  Sun, 03 Jan 2021 00:02:32 GMT   \n",
       "\n",
       "                                                   URL  Content_Count  \\\n",
       "0    https://www.bbc.co.uk/news/world-us-canada-556...           6334   \n",
       "1    https://www.bbc.co.uk/news/world-us-canada-556...           6593   \n",
       "2    https://www.bbc.co.uk/news/world-us-canada-556...           5208   \n",
       "3    https://www.bbc.co.uk/news/world-latin-america...           2213   \n",
       "4               https://www.bbc.co.uk/news/uk-55620280            354   \n",
       "..                                                 ...            ...   \n",
       "286  https://www.bbc.co.uk/news/entertainment-arts-...            484   \n",
       "287  https://www.bbc.co.uk/news/entertainment-arts-...            479   \n",
       "288  https://www.bbc.co.uk/news/entertainment-arts-...            611   \n",
       "289          https://www.bbc.co.uk/news/world-55415765            120   \n",
       "290  https://www.bbc.co.uk/news/entertainment-arts-...            533   \n",
       "\n",
       "     Title_Count  \n",
       "0             65  \n",
       "1             65  \n",
       "2             56  \n",
       "3             45  \n",
       "4             44  \n",
       "..           ...  \n",
       "286           63  \n",
       "287           50  \n",
       "288           53  \n",
       "289           44  \n",
       "290           65  \n",
       "\n",
       "[247 rows x 7 columns]"
      ]
     },
     "execution_count": 20,
     "metadata": {},
     "output_type": "execute_result"
    }
   ],
   "source": [
    "data"
   ]
  },
  {
   "cell_type": "code",
   "execution_count": null,
   "metadata": {},
   "outputs": [],
   "source": []
  },
  {
   "cell_type": "code",
   "execution_count": 21,
   "metadata": {},
   "outputs": [
    {
     "data": {
      "text/plain": [
       "4008.089068825911"
      ]
     },
     "execution_count": 21,
     "metadata": {},
     "output_type": "execute_result"
    }
   ],
   "source": [
    "data['Content_Count'].mean()"
   ]
  },
  {
   "cell_type": "code",
   "execution_count": 22,
   "metadata": {},
   "outputs": [
    {
     "data": {
      "text/plain": [
       "989998"
      ]
     },
     "execution_count": 22,
     "metadata": {},
     "output_type": "execute_result"
    }
   ],
   "source": [
    "data['Content_Count'].sum()"
   ]
  },
  {
   "cell_type": "code",
   "execution_count": 23,
   "metadata": {},
   "outputs": [
    {
     "data": {
      "text/plain": [
       "54.85425101214575"
      ]
     },
     "execution_count": 23,
     "metadata": {},
     "output_type": "execute_result"
    }
   ],
   "source": [
    "data['Title_Count'].mean()"
   ]
  },
  {
   "cell_type": "code",
   "execution_count": 24,
   "metadata": {},
   "outputs": [
    {
     "data": {
      "text/plain": [
       "13549"
      ]
     },
     "execution_count": 24,
     "metadata": {},
     "output_type": "execute_result"
    }
   ],
   "source": [
    "data['Title_Count'].sum()"
   ]
  },
  {
   "cell_type": "code",
   "execution_count": 25,
   "metadata": {},
   "outputs": [
    {
     "data": {
      "text/plain": [
       "count      247.000000\n",
       "mean      4008.089069\n",
       "std       2761.034375\n",
       "min         52.000000\n",
       "25%       2061.000000\n",
       "50%       3945.000000\n",
       "75%       5718.000000\n",
       "max      14721.000000\n",
       "Name: Content_Count, dtype: float64"
      ]
     },
     "execution_count": 25,
     "metadata": {},
     "output_type": "execute_result"
    }
   ],
   "source": [
    "data['Content_Count'].describe()"
   ]
  },
  {
   "cell_type": "code",
   "execution_count": 26,
   "metadata": {},
   "outputs": [
    {
     "data": {
      "text/plain": [
       "count    247.000000\n",
       "mean      54.854251\n",
       "std       10.120163\n",
       "min       23.000000\n",
       "25%       49.000000\n",
       "50%       54.000000\n",
       "75%       61.000000\n",
       "max       98.000000\n",
       "Name: Title_Count, dtype: float64"
      ]
     },
     "execution_count": 26,
     "metadata": {},
     "output_type": "execute_result"
    }
   ],
   "source": [
    "data['Title_Count'].describe()"
   ]
  },
  {
   "cell_type": "code",
   "execution_count": null,
   "metadata": {},
   "outputs": [],
   "source": []
  },
  {
   "cell_type": "markdown",
   "metadata": {},
   "source": [
    "We can use describe function to get descriptive statistics like dataset's distribution. We can also use function like df.sum() to get other information of datasets. \n",
    "\n",
    "For example from data['Content_Count'].mean() we can know the average length of the article is 4008.089068825911."
   ]
  },
  {
   "cell_type": "code",
   "execution_count": null,
   "metadata": {},
   "outputs": [],
   "source": []
  },
  {
   "cell_type": "code",
   "execution_count": 27,
   "metadata": {},
   "outputs": [
    {
     "data": {
      "text/plain": [
       "array([[<matplotlib.axes._subplots.AxesSubplot object at 0x7fc0d03ca430>]],\n",
       "      dtype=object)"
      ]
     },
     "execution_count": 27,
     "metadata": {},
     "output_type": "execute_result"
    },
    {
     "data": {
      "image/png": "[encoded data removed]",
      "text/plain": [
       "<Figure size 432x288 with 1 Axes>"
      ]
     },
     "metadata": {
      "needs_background": "light"
     },
     "output_type": "display_data"
    }
   ],
   "source": [
    "data.hist('Content_Count')"
   ]
  },
  {
   "cell_type": "code",
   "execution_count": null,
   "metadata": {},
   "outputs": [],
   "source": []
  },
  {
   "cell_type": "code",
   "execution_count": 28,
   "metadata": {},
   "outputs": [
    {
     "data": {
      "text/plain": [
       "array([[<matplotlib.axes._subplots.AxesSubplot object at 0x7fc0d0568d30>]],\n",
       "      dtype=object)"
      ]
     },
     "execution_count": 28,
     "metadata": {},
     "output_type": "execute_result"
    },
    {
     "data": {
      "image/png": "[encoded data removed]",
      "text/plain": [
       "<Figure size 432x288 with 1 Axes>"
      ]
     },
     "metadata": {
      "needs_background": "light"
     },
     "output_type": "display_data"
    }
   ],
   "source": [
    "data.hist('Title_Count')"
   ]
  },
  {
   "cell_type": "markdown",
   "metadata": {},
   "source": [
    "We can use df.hist() to explore distribution of numeric columns using histograms.\n",
    "\n",
    "In these histograms we can get the distribution of the number of word in titles and contents. \n",
    "\n",
    "In the Title_Count histogram we can find that most of title length is around median.\n",
    "\n",
    "In the Content_Count histogram we can find a different interesting shape. In my opinion, it because some news only \n",
    "contains pictures/videos without text description. As we defined before, in this case, we will extract the decription in RSS as content.\n",
    "\n"
   ]
  },
  {
   "cell_type": "code",
   "execution_count": null,
   "metadata": {},
   "outputs": [],
   "source": []
  },
  {
   "cell_type": "code",
   "execution_count": null,
   "metadata": {},
   "outputs": [],
   "source": []
  },
  {
   "cell_type": "markdown",
   "metadata": {},
   "source": [
    "### Answer 2\n",
    "\n",
    "    （Q：What is the most of top 20 common words(after cleaning) in the articles' content?）\n",
    "    \n",
    "    First, we clean the data by removing the punctuation and stopwords. Next, we use different NLP libraries to get the most common word in all content. Further more, we explore the most common nouns for comparison. Finally, we can get the most top 20 of the common words in the following bar graph."
   ]
  },
  {
   "cell_type": "code",
   "execution_count": null,
   "metadata": {},
   "outputs": [],
   "source": []
  },
  {
   "cell_type": "markdown",
   "metadata": {},
   "source": [
    "Define plot_most_freq(text, Top) function, input the text(after tokenization) and The 'Top' （you can set the number as you want). It will return the ‘Top’ most common related strings(by using NLTK), and then we can use matplotlib to plot the bar graph."
   ]
  },
  {
   "cell_type": "code",
   "execution_count": 40,
   "metadata": {},
   "outputs": [],
   "source": [
    "def plot_most_freq(text, Top):\n",
    "    fdist = nltk.FreqDist(text)\n",
    "    rslt=pd.DataFrame(fdist.most_common(Top),columns=['Word','Frequency']).set_index('Word')\n",
    "    matplotlib.style.use('ggplot')\n",
    "    rslt.plot.bar(rot=0,figsize=(Top,4))"
   ]
  },
  {
   "cell_type": "code",
   "execution_count": null,
   "metadata": {},
   "outputs": [],
   "source": []
  },
  {
   "cell_type": "markdown",
   "metadata": {},
   "source": [
    "Define clean_text(txt) function. As NLP task, we need to do tokenization first. In this function, we input the content, and it will remove all the punctuation and stopwords, and then return the token."
   ]
  },
  {
   "cell_type": "code",
   "execution_count": 31,
   "metadata": {},
   "outputs": [],
   "source": [
    "def clean_text(txt):\n",
    "    txt=\" \".join([c for c in txt if c not in string.punctuation])\n",
    "    tokens=re.split('\\W+',txt)\n",
    "    stopwords=nltk.corpus.stopwords.words('english')\n",
    "    txt_clean=[word for word in tokens if word not in stopwords]\n",
    "    return txt_clean"
   ]
  },
  {
   "cell_type": "code",
   "execution_count": null,
   "metadata": {},
   "outputs": [],
   "source": []
  },
  {
   "cell_type": "code",
   "execution_count": null,
   "metadata": {},
   "outputs": [],
   "source": []
  },
  {
   "cell_type": "code",
   "execution_count": 32,
   "metadata": {},
   "outputs": [],
   "source": [
    "content=data['Content'].str.lower()\n",
    "text=clean_text(content)"
   ]
  },
  {
   "cell_type": "code",
   "execution_count": 41,
   "metadata": {},
   "outputs": [
    {
     "data": {
      "image/png": "[encoded data removed]",
      "text/plain": [
       "<Figure size 1440x288 with 1 Axes>"
      ]
     },
     "metadata": {},
     "output_type": "display_data"
    }
   ],
   "source": [
    "plot_most_freq(text,20)"
   ]
  },
  {
   "cell_type": "markdown",
   "metadata": {},
   "source": [
    "We firstly lower all string and then do the tokenization. Then we can use plot function to plot most 20 common words."
   ]
  },
  {
   "cell_type": "code",
   "execution_count": null,
   "metadata": {},
   "outputs": [],
   "source": []
  },
  {
   "cell_type": "code",
   "execution_count": null,
   "metadata": {},
   "outputs": [],
   "source": []
  },
  {
   "cell_type": "code",
   "execution_count": 43,
   "metadata": {},
   "outputs": [],
   "source": [
    "content=data['Content'].str.lower()\n",
    "txt=\" \".join([c for c in content if c not in string.punctuation])\n",
    "nlp=spacy.load(\"en_core_web_sm\")\n",
    "doc=nlp(txt)\n",
    "nouns=[token.text for token in doc if token.is_stop != True and token.is_punct != True and token.pos_ == \"NOUN\"]"
   ]
  },
  {
   "cell_type": "code",
   "execution_count": 44,
   "metadata": {},
   "outputs": [
    {
     "data": {
      "image/png": "[encoded data removed]",
      "text/plain": [
       "<Figure size 1440x288 with 1 Axes>"
      ]
     },
     "metadata": {},
     "output_type": "display_data"
    }
   ],
   "source": [
    "plot_most_freq(nouns,20)"
   ]
  },
  {
   "cell_type": "markdown",
   "metadata": {},
   "source": [
    "This histogram shows the 20 most common nouns in the articles. \n",
    "\n",
    "Although we have plot the 20 most common word before, we can see some verbs still in the plot. In News, verb is not as important as noun. So, in this part, we tried to use another NLP library: Spacy to get the most common Noun. Then, we plot the bar graph."
   ]
  },
  {
   "cell_type": "code",
   "execution_count": null,
   "metadata": {},
   "outputs": [],
   "source": []
  },
  {
   "cell_type": "code",
   "execution_count": null,
   "metadata": {},
   "outputs": [],
   "source": []
  },
  {
   "cell_type": "markdown",
   "metadata": {},
   "source": [
    "### Anwser 3\n",
    "\n",
    "    （Q：Can we recognize and analysis various types of named entities in contents?）\n",
    "    \n",
    "    Name Entities Recognization(NER) is an important part in NLP tasks, in the following code, we are using Spacy to recognize various type of named entities in the contents and analysis them. \n",
    "    \n",
    "    \n",
    "    We explore following entity types:\n",
    "    \n",
    "    Person: Person name\n",
    "    GPE: Geopolitical entity, i.e. countries, cities, states\n",
    "    NORP: Nationalities or religious or political groups\n",
    "    WORK_OF_ART: Titles of books and songs,etc"
   ]
  },
  {
   "cell_type": "code",
   "execution_count": null,
   "metadata": {},
   "outputs": [],
   "source": []
  },
  {
   "cell_type": "markdown",
   "metadata": {},
   "source": [
    "We defined several functions to use library Spacy to recognize various types of named entities. We input contents and then we can get a list of entities.  "
   ]
  },
  {
   "cell_type": "code",
   "execution_count": 62,
   "metadata": {},
   "outputs": [],
   "source": [
    "def get_person(contents):\n",
    "    nlp=spacy.load(\"en_core_web_sm\")\n",
    "    \n",
    "    data_string=contents\n",
    "    doc=nlp(data_string)\n",
    "    \n",
    "    person=[x.text for x in doc.ents if x.label_==\"PERSON\"]\n",
    "\n",
    "    \n",
    "    return person"
   ]
  },
  {
   "cell_type": "code",
   "execution_count": 72,
   "metadata": {},
   "outputs": [],
   "source": [
    "def get_gpe(contents):\n",
    "    nlp=spacy.load(\"en_core_web_sm\")\n",
    "    \n",
    "    data_string=contents\n",
    "    doc=nlp(data_string)\n",
    "    \n",
    "    gpe=[x.text for x in doc.ents if x.label_==\"GPE\"]\n",
    "\n",
    "    \n",
    "    return gpe"
   ]
  },
  {
   "cell_type": "code",
   "execution_count": 69,
   "metadata": {},
   "outputs": [],
   "source": [
    "def get_norp(contents):\n",
    "    nlp=spacy.load(\"en_core_web_sm\")\n",
    "    \n",
    "    data_string=contents\n",
    "    doc=nlp(data_string)\n",
    "    \n",
    "    norp=[x.text for x in doc.ents if x.label_==\"NORP\"]\n",
    "\n",
    "    \n",
    "    return norp"
   ]
  },
  {
   "cell_type": "code",
   "execution_count": 70,
   "metadata": {},
   "outputs": [],
   "source": [
    "def get_work_of_art(contents):\n",
    "    nlp=spacy.load(\"en_core_web_sm\")\n",
    "    \n",
    "    data_string=contents\n",
    "    doc=nlp(data_string)\n",
    "    \n",
    "    work_of_art=[x.text for x in doc.ents if x.label_==\"WORK_OF_ART\"]\n",
    "\n",
    "    \n",
    "    return work_of_art"
   ]
  },
  {
   "cell_type": "code",
   "execution_count": null,
   "metadata": {},
   "outputs": [],
   "source": []
  },
  {
   "cell_type": "code",
   "execution_count": null,
   "metadata": {},
   "outputs": [],
   "source": []
  },
  {
   "cell_type": "code",
   "execution_count": 65,
   "metadata": {
    "scrolled": false
   },
   "outputs": [
    {
     "name": "stderr",
     "output_type": "stream",
     "text": [
      "<ipython-input-65-1e5a96fcfddd>:1: SettingWithCopyWarning: \n",
      "A value is trying to be set on a copy of a slice from a DataFrame.\n",
      "Try using .loc[row_indexer,col_indexer] = value instead\n",
      "\n",
      "See the caveats in the documentation: https://pandas.pydata.org/pandas-docs/stable/user_guide/indexing.html#returning-a-view-versus-a-copy\n",
      "  data['Person']=data['Content'].apply(get_person)\n"
     ]
    }
   ],
   "source": [
    "data['Person']=data['Content'].apply(get_person)"
   ]
  },
  {
   "cell_type": "code",
   "execution_count": 73,
   "metadata": {},
   "outputs": [
    {
     "name": "stderr",
     "output_type": "stream",
     "text": [
      "<ipython-input-73-e2da8ce58392>:1: SettingWithCopyWarning: \n",
      "A value is trying to be set on a copy of a slice from a DataFrame.\n",
      "Try using .loc[row_indexer,col_indexer] = value instead\n",
      "\n",
      "See the caveats in the documentation: https://pandas.pydata.org/pandas-docs/stable/user_guide/indexing.html#returning-a-view-versus-a-copy\n",
      "  data['GPE']=data['Content'].apply(get_gpe)\n"
     ]
    }
   ],
   "source": [
    "data['GPE']=data['Content'].apply(get_gpe)"
   ]
  },
  {
   "cell_type": "code",
   "execution_count": 74,
   "metadata": {},
   "outputs": [
    {
     "name": "stderr",
     "output_type": "stream",
     "text": [
      "<ipython-input-74-b0d0dec08264>:1: SettingWithCopyWarning: \n",
      "A value is trying to be set on a copy of a slice from a DataFrame.\n",
      "Try using .loc[row_indexer,col_indexer] = value instead\n",
      "\n",
      "See the caveats in the documentation: https://pandas.pydata.org/pandas-docs/stable/user_guide/indexing.html#returning-a-view-versus-a-copy\n",
      "  data['NORP']=data['Content'].apply(get_norp)\n"
     ]
    }
   ],
   "source": [
    "data['NORP']=data['Content'].apply(get_norp)"
   ]
  },
  {
   "cell_type": "code",
   "execution_count": 75,
   "metadata": {},
   "outputs": [
    {
     "name": "stderr",
     "output_type": "stream",
     "text": [
      "<ipython-input-75-56f17977fac8>:1: SettingWithCopyWarning: \n",
      "A value is trying to be set on a copy of a slice from a DataFrame.\n",
      "Try using .loc[row_indexer,col_indexer] = value instead\n",
      "\n",
      "See the caveats in the documentation: https://pandas.pydata.org/pandas-docs/stable/user_guide/indexing.html#returning-a-view-versus-a-copy\n",
      "  data['WORK_OF_ART']=data['Content'].apply(get_work_of_art)\n"
     ]
    }
   ],
   "source": [
    "data['WORK_OF_ART']=data['Content'].apply(get_work_of_art)"
   ]
  },
  {
   "cell_type": "code",
   "execution_count": null,
   "metadata": {},
   "outputs": [],
   "source": []
  },
  {
   "cell_type": "markdown",
   "metadata": {},
   "source": [
    "we using df.apply to adding new columns in the dataframe. These columns save different types of entities"
   ]
  },
  {
   "cell_type": "code",
   "execution_count": null,
   "metadata": {},
   "outputs": [],
   "source": []
  },
  {
   "cell_type": "code",
   "execution_count": null,
   "metadata": {},
   "outputs": [],
   "source": []
  },
  {
   "cell_type": "markdown",
   "metadata": {},
   "source": [
    "In get_word(label,top) function, we count and sort the obtained entities, get top N data and plot the bar graph"
   ]
  },
  {
   "cell_type": "code",
   "execution_count": 91,
   "metadata": {},
   "outputs": [],
   "source": [
    "def get_word(label,top):\n",
    "    texts=data[label].tolist()\n",
    "    words=[]\n",
    "    \n",
    "    for text in texts:\n",
    "        for word in text:\n",
    "            words.append(word.lower())\n",
    "            \n",
    "    fdist=nltk.FreqDist(words)\n",
    "    rslt=pd.DataFrame(fdist.most_common(top),columns=['Word','Frequency']).set_index('Word')\n",
    "    \n",
    "    matplotlib.style.use('ggplot')\n",
    "    rslt.plot.bar(rot=0, figsize=(top*2,4))\n",
    "    "
   ]
  },
  {
   "cell_type": "code",
   "execution_count": null,
   "metadata": {},
   "outputs": [],
   "source": []
  },
  {
   "cell_type": "code",
   "execution_count": null,
   "metadata": {},
   "outputs": [],
   "source": []
  },
  {
   "cell_type": "code",
   "execution_count": 92,
   "metadata": {},
   "outputs": [
    {
     "data": {
      "image/png": "[encoded data removed]",
      "text/plain": [
       "<Figure size 2880x288 with 1 Axes>"
      ]
     },
     "metadata": {},
     "output_type": "display_data"
    }
   ],
   "source": [
    "get_word('Person',20)"
   ]
  },
  {
   "cell_type": "code",
   "execution_count": 93,
   "metadata": {},
   "outputs": [
    {
     "data": {
      "image/png": "[encoded data removed]",
      "text/plain": [
       "<Figure size 2880x288 with 1 Axes>"
      ]
     },
     "metadata": {},
     "output_type": "display_data"
    }
   ],
   "source": [
    "get_word('GPE',20)"
   ]
  },
  {
   "cell_type": "code",
   "execution_count": 94,
   "metadata": {},
   "outputs": [
    {
     "data": {
      "image/png": "[encoded data removed]",
      "text/plain": [
       "<Figure size 2880x288 with 1 Axes>"
      ]
     },
     "metadata": {},
     "output_type": "display_data"
    }
   ],
   "source": [
    "get_word('NORP',20)"
   ]
  },
  {
   "cell_type": "code",
   "execution_count": 95,
   "metadata": {},
   "outputs": [
    {
     "data": {
      "image/png": "[encoded data removed]",
      "text/plain": [
       "<Figure size 2880x288 with 1 Axes>"
      ]
     },
     "metadata": {},
     "output_type": "display_data"
    }
   ],
   "source": [
    "get_word('WORK_OF_ART',20)"
   ]
  },
  {
   "cell_type": "code",
   "execution_count": null,
   "metadata": {},
   "outputs": [],
   "source": []
  },
  {
   "cell_type": "markdown",
   "metadata": {},
   "source": [
    "Call the function and got the top 20 data bar graphs. Each bar chart shows the 20 most frequently occurring words in the current category and the number of times they appear."
   ]
  },
  {
   "cell_type": "code",
   "execution_count": null,
   "metadata": {},
   "outputs": [],
   "source": []
  },
  {
   "cell_type": "markdown",
   "metadata": {},
   "source": [
    "### Answer 4\n",
    "    \n",
    "   （Q：Can we give any thoughts on the result?）\n",
    "    \n",
    "    Some word can not be labelled correctly. For example, for the word 'COVID', it is labelled as entity PERSON and NORP. But in fact, it does not belong to these two entity types. The latest popular words are not updated in the corpus yet.\n",
    "\n",
    "    Also, In the type PERSON, we can see donald trump and trump were treated as two different person, but we know they refer to the same person in the News.\n"
   ]
  },
  {
   "cell_type": "code",
   "execution_count": null,
   "metadata": {},
   "outputs": [],
   "source": []
  },
  {
   "cell_type": "code",
   "execution_count": null,
   "metadata": {},
   "outputs": [],
   "source": []
  },
  {
   "cell_type": "code",
   "execution_count": null,
   "metadata": {},
   "outputs": [],
   "source": []
  },
  {
   "cell_type": "markdown",
   "metadata": {},
   "source": [
    "## Summarize\n",
    "     \n",
    "     Through the text analysis of the content of BBC news articles, I can count the words that appear most in different categories to get a general understanding of current news hotspots. In the analysis of the text, I also found some interesting questions as answered in question 4. Through this data analysis, I have become more proficient in the extraction and analysis of webpage text.\n",
    "    \n",
    "    In the future work, I will try different datasets to extract data. Use more data over a period of time to get more convincing conclusions.\n"
   ]
  },
  {
   "cell_type": "code",
   "execution_count": null,
   "metadata": {},
   "outputs": [],
   "source": []
  }
 ],
 "metadata": {
  "kernelspec": {
   "display_name": "Python 3",
   "language": "python",
   "name": "python3"
  },
  "language_info": {
   "codemirror_mode": {
    "name": "ipython",
    "version": 3
   },
   "file_extension": ".py",
   "mimetype": "text/x-python",
   "name": "python",
   "nbconvert_exporter": "python",
   "pygments_lexer": "ipython3",
   "version": "3.8.3"
  }
 },
 "nbformat": 4,
 "nbformat_minor": 4
}
