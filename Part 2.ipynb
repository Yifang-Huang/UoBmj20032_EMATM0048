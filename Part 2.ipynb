{
 "cells": [
  {
   "cell_type": "code",
   "execution_count": 1,
   "metadata": {},
   "outputs": [],
   "source": [
    "def search_sort(L1, L2):\n",
    "        in_L2=[]\n",
    "        not_in_L2=[]\n",
    "        Hash1={}\n",
    "        Hash2={}\n",
    "        \n",
    "        try:\n",
    "       \n",
    "            for i in L1:\n",
    "                Hash1[i]=Hash1.get(i,0) + 1\n",
    "            L1 = set(L1)\n",
    "            for i in L2:\n",
    "                Hash2[i]=Hash2.get(i,1)\n",
    "            for j in L1:\n",
    "                if j not in Hash2:\n",
    "                    not_in_L2+=[j]*Hash1[j]\n",
    "            not_in_L2=merge_sort(not_in_L2)\n",
    "            for k in L2:\n",
    "                in_L2+=[k]*Hash1[k]\n",
    "            return in_L2+not_in_L2\n",
    "        except:\n",
    "            print('L2 is out of range')\n",
    "                \n",
    "        \n",
    "        \n",
    "            \n",
    "\n"
   ]
  },
  {
   "cell_type": "code",
   "execution_count": 2,
   "metadata": {},
   "outputs": [],
   "source": [
    "def merge_sort(d):\n",
    "    if len(d)==1:\n",
    "        return d\n",
    "    mid=len(d) // 2\n",
    "    left=d[:mid]\n",
    "    right=d[mid:]\n",
    "    return merge(merge_sort(left), merge_sort(right))\n",
    "        "
   ]
  },
  {
   "cell_type": "code",
   "execution_count": 3,
   "metadata": {},
   "outputs": [],
   "source": [
    "def merge(left, right):\n",
    "    result=[]\n",
    "    while len(left)>0 and len(right)>0:\n",
    "        if left[0]<=right[0]:\n",
    "            result.append(left.pop(0))\n",
    "        else:\n",
    "            result.append(right.pop(0))\n",
    "    result+=left\n",
    "    result+=right\n",
    "    return result\n",
    "    "
   ]
  },
  {
   "cell_type": "code",
   "execution_count": null,
   "metadata": {},
   "outputs": [],
   "source": []
  },
  {
   "cell_type": "code",
   "execution_count": 4,
   "metadata": {},
   "outputs": [
    {
     "name": "stdout",
     "output_type": "stream",
     "text": [
      "[2, 2, 1, 1, 8, 8, 3, 5, 8, 8, 6, 7, 9]\n"
     ]
    }
   ],
   "source": [
    "L1=[2,1,2,5,7,1,9,3,6,8,8]\n",
    "L2=[2,1,8,3,5,8]\n",
    "s=search_sort(L1,L2)\n",
    "print(s)"
   ]
  },
  {
   "cell_type": "markdown",
   "metadata": {},
   "source": [
    " the searching algorithm is hashing and the sorting algorithms is merge sort\n",
    " \n",
    " assume the length of L1 is n, length of L2 is m.\n",
    " \n",
    " the time complexity for the first for loop to get Hash1 is O(n)\n",
    " the time complexity for the second for loop to get Hash2 is O(m)\n",
    " the time complexity for the third for loop to get not_in_L2 is O(n)\n",
    " the time complexity for merge sort is (n)log(n)\n",
    " the time complexity for the last for loop is m\n",
    " \n",
    " ·So, the time complexity of this sorting method is O(2(n+m)+nlogn) and we can simplified it to O(n+m+nlogn).\n",
    " ·When L2 is much larger than L1 the time complexity is O(m)\n",
    " ·When L1 and L2 are of the same size time complexity is O(n+nlogn)\n",
    " \n",
    " \n",
    " "
   ]
  },
  {
   "cell_type": "code",
   "execution_count": null,
   "metadata": {},
   "outputs": [],
   "source": []
  },
  {
   "cell_type": "code",
   "execution_count": null,
   "metadata": {},
   "outputs": [],
   "source": []
  },
  {
   "cell_type": "code",
   "execution_count": null,
   "metadata": {},
   "outputs": [],
   "source": []
  },
  {
   "cell_type": "code",
   "execution_count": null,
   "metadata": {},
   "outputs": [],
   "source": []
  },
  {
   "cell_type": "code",
   "execution_count": null,
   "metadata": {},
   "outputs": [],
   "source": []
  },
  {
   "cell_type": "code",
   "execution_count": null,
   "metadata": {},
   "outputs": [],
   "source": []
  },
  {
   "cell_type": "code",
   "execution_count": null,
   "metadata": {},
   "outputs": [],
   "source": []
  }
 ],
 "metadata": {
  "kernelspec": {
   "display_name": "Python 3",
   "language": "python",
   "name": "python3"
  },
  "language_info": {
   "codemirror_mode": {
    "name": "ipython",
    "version": 3
   },
   "file_extension": ".py",
   "mimetype": "text/x-python",
   "name": "python",
   "nbconvert_exporter": "python",
   "pygments_lexer": "ipython3",
   "version": "3.8.3"
  }
 },
 "nbformat": 4,
 "nbformat_minor": 4
}
